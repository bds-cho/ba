{
 "cells": [
  {
   "cell_type": "code",
   "execution_count": 2,
   "id": "a3ba0454-145b-4f6f-b215-4e098ec59506",
   "metadata": {},
   "outputs": [],
   "source": [
    "import util"
   ]
  },
  {
   "cell_type": "code",
   "execution_count": 3,
   "id": "0ac34394-efb1-4930-832e-64e3ff9b2f36",
   "metadata": {},
   "outputs": [],
   "source": [
    "# EC2-Dynamo data\n",
    "df_ec2_dynamo_constant_run1 = util.trim_df(util.to_df_ec2('./target-dynamo/ec2-dynamo-constant-1725388473-run1.log'))\n",
    "df_ec2_dynamo_constant_run2 = util.trim_df(util.to_df_ec2('./target-dynamo/ec2-dynamo-constant-1725440892-run2.log'))\n",
    "df_ec2_dynamo_spiky_run1 = util.trim_df(util.to_df_ec2('./target-dynamo/ec2-dynamo-spiky-1725302112-run1.log'))\n",
    "df_ec2_dynamo_spiky_run2 = util.trim_df(util.to_df_ec2('./target-dynamo/ec2-dynamo-spiky-1725355887-run2.log'))\n",
    "\n",
    "# Lambda-Dynamo data\n",
    "df_lambda_dynamo_constant_run1 = util.trim_df(util.to_df_lambda('./target-dynamo/lambda-dynamo-constant-1725766991-run1.log'))\n",
    "df_lambda_dynamo_constant_run2 = util.trim_df(util.to_df_lambda('./target-dynamo/lambda-dynamo-constant-1725821620-run2.log'))\n",
    "df_lambda_dynamo_spiky_run1 = util.trim_df(util.to_df_lambda('./target-dynamo/lambda-dynamo-spiky-1725676459-run1.log'))\n",
    "df_lambda_dynamo_spiky_run2 = util.trim_df(util.to_df_lambda('./target-dynamo/lambda-dynamo-spiky-1725729192-run2.log'))"
   ]
  },
  {
   "cell_type": "code",
   "execution_count": 9,
   "id": "caa37cb7-f748-4134-aead-866e902ec2c7",
   "metadata": {},
   "outputs": [],
   "source": [
    "#util.summary(df_ec2_dynamo_constant_run1,'latency')\n",
    "#util.summary(df_ec2_dynamo_constant_run2,'latency')\n",
    "#util.summary(df_ec2_dynamo_spiky_run1,'latency')\n",
    "#util.summary(df_ec2_dynamo_spiky_run2,'latency')\n",
    "#util.summary(df_lambda_dynamo_constant_run1,'latency')\n",
    "#util.summary(df_lambda_dynamo_constant_run2,'latency')\n",
    "#util.summary(df_lambda_dynamo_spiky_run1,'latency')\n",
    "#util.summary(df_lambda_dynamo_spiky_run2,'latency')"
   ]
  },
  {
   "cell_type": "code",
   "execution_count": null,
   "id": "1e219ff3-3647-4797-a3bd-28249fb4009f",
   "metadata": {},
   "outputs": [],
   "source": []
  }
 ],
 "metadata": {
  "kernelspec": {
   "display_name": "Python 3 (ipykernel)",
   "language": "python",
   "name": "python3"
  },
  "language_info": {
   "codemirror_mode": {
    "name": "ipython",
    "version": 3
   },
   "file_extension": ".py",
   "mimetype": "text/x-python",
   "name": "python",
   "nbconvert_exporter": "python",
   "pygments_lexer": "ipython3",
   "version": "3.12.3"
  }
 },
 "nbformat": 4,
 "nbformat_minor": 5
}
