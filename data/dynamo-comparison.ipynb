{
 "cells": [
  {
   "cell_type": "code",
   "execution_count": null,
   "id": "a3ba0454-145b-4f6f-b215-4e098ec59506",
   "metadata": {},
   "outputs": [],
   "source": [
    "import util\n",
    "import pandas as pd"
   ]
  },
  {
   "cell_type": "code",
   "execution_count": null,
   "id": "0ac34394-efb1-4930-832e-64e3ff9b2f36",
   "metadata": {},
   "outputs": [],
   "source": [
    "# EC2-DYNAMO DATA\n",
    "df_ec2_dynamo_constant_run1 = util.trim_df(util.to_df_ec2('./target-dynamo/ec2-dynamo-constant-1725388473-run1.log'))\n",
    "df_ec2_dynamo_constant_run2 = util.trim_df(util.to_df_ec2('./target-dynamo/ec2-dynamo-constant-1725440892-run2.log'))\n",
    "df_ec2_dynamo_spiky_run1 = util.trim_df(util.to_df_ec2('./target-dynamo/ec2-dynamo-spiky-1725302112-run1.log'))\n",
    "df_ec2_dynamo_spiky_run2 = util.trim_df(util.to_df_ec2('./target-dynamo/ec2-dynamo-spiky-1725355887-run2.log'))\n",
    "\n",
    "# LAMBDA-DYNAMO DATA\n",
    "df_lambda_dynamo_constant_run1 = util.trim_df(util.to_df_lambda('./target-dynamo/lambda-dynamo-constant-1725766991-run1.log'))\n",
    "df_lambda_dynamo_constant_run2 = util.trim_df(util.to_df_lambda('./target-dynamo/lambda-dynamo-constant-1725821620-run2.log'))\n",
    "df_lambda_dynamo_spiky_run1 = util.trim_df(util.to_df_lambda('./target-dynamo/lambda-dynamo-spiky-1725676459-run1.log'))\n",
    "df_lambda_dynamo_spiky_run2 = util.trim_df(util.to_df_lambda('./target-dynamo/lambda-dynamo-spiky-1725729192-run2.log'))"
   ]
  },
  {
   "cell_type": "code",
   "execution_count": null,
   "id": "caa37cb7-f748-4134-aead-866e902ec2c7",
   "metadata": {},
   "outputs": [],
   "source": [
    "# SUMMARY OF SPECIFIC RUNS\n",
    "print('\\n----------> df_ec2_dynamo_constant_run1 <----------');util.summary(df_ec2_dynamo_constant_run1,'latency')\n",
    "print('\\n----------> df_ec2_dynamo_constant_run2 <----------');util.summary(df_ec2_dynamo_constant_run2,'latency')\n",
    "print('\\n----------> df_ec2_dynamo_spiky_run1 <----------');util.summary(df_ec2_dynamo_spiky_run1,'latency')\n",
    "print('\\n----------> df_ec2_dynamo_spiky_run2 <----------');util.summary(df_ec2_dynamo_spiky_run2,'latency')\n",
    "print('\\n----------> df_lambda_dynamo_constant_run1 <----------');util.summary(df_lambda_dynamo_constant_run1,'latency')\n",
    "print('\\n----------> df_lambda_dynamo_constant_run2 <----------');util.summary(df_lambda_dynamo_constant_run2,'latency')\n",
    "print('\\n----------> df_lambda_dynamo_spiky_run1 <----------');util.summary(df_lambda_dynamo_spiky_run1,'latency')\n",
    "print('\\n----------> df_lambda_dynamo_spiky_run2 <----------');util.summary(df_lambda_dynamo_spiky_run2,'latency')"
   ]
  },
  {
   "cell_type": "markdown",
   "id": "c2ccd332-6b8f-42fd-89b3-6913399dcac2",
   "metadata": {},
   "source": [
    "### TIME-SERIES GRAPHS"
   ]
  },
  {
   "cell_type": "code",
   "execution_count": null,
   "id": "fcce544e-041b-4590-80d2-b47a773cbefe",
   "metadata": {},
   "outputs": [],
   "source": [
    "# DROP OUTLIERS\n",
    "\n",
    "df_ec2_dynamo_constant_run1_clean,stats1 = util.remove_outliers(df_ec2_dynamo_constant_run1)\n",
    "df_ec2_dynamo_constant_run2_clean,stats2 = util.remove_outliers(df_ec2_dynamo_constant_run2)\n",
    "df_ec2_dynamo_spiky_run1_clean,stats3 = util.remove_outliers(df_ec2_dynamo_spiky_run1)\n",
    "df_ec2_dynamo_spiky_run2_clean,stats4 = util.remove_outliers(df_ec2_dynamo_spiky_run2)\n",
    "\n",
    "df_lambda_dynamo_constant_run1_clean,stats5 = util.remove_outliers(df_lambda_dynamo_constant_run1)\n",
    "df_lambda_dynamo_constant_run2_clean,stats6 = util.remove_outliers(df_lambda_dynamo_constant_run2)\n",
    "df_lambda_dynamo_spiky_run1_clean,stats7 = util.remove_outliers(df_lambda_dynamo_spiky_run1)\n",
    "df_lambda_dynamo_spiky_run2_clean,stats8 = util.remove_outliers(df_lambda_dynamo_spiky_run2)"
   ]
  },
  {
   "cell_type": "code",
   "execution_count": null,
   "id": "1e219ff3-3647-4797-a3bd-28249fb4009f",
   "metadata": {},
   "outputs": [],
   "source": [
    "# EC2 AND LAMBDA WITH DYNAMO UNDER CONSTANT LOAD (TIME-SERIES GRAPH)\n",
    "ts1 = util.plot_multiple([df_ec2_dynamo_constant_run1_clean,df_ec2_dynamo_constant_run2_clean,df_lambda_dynamo_constant_run1_clean,df_lambda_dynamo_constant_run2_clean],['ec2_dynamo_constant_run1','ec2_dynamo_constant_run2','lambda_dynamo_constant_run1','lambda_dynamo_constant_run2'])\n",
    "ts1.savefig(\"./plots/ts-dynamo-constant.pdf\",format=\"pdf\",bbox_inches=\"tight\")"
   ]
  },
  {
   "cell_type": "code",
   "execution_count": null,
   "id": "58d82729-3e13-4979-b57f-5786099eba26",
   "metadata": {},
   "outputs": [],
   "source": [
    "# EC2 AND LAMBDA WITH DYNAMO UNDER BURSTY LOAD (TIME-SERIES GRAPH)\n",
    "ts2 = util.plot_multiple([df_ec2_dynamo_spiky_run1_clean,df_ec2_dynamo_spiky_run2_clean,df_lambda_dynamo_spiky_run1_clean,df_lambda_dynamo_spiky_run2_clean],['ec2_dynamo_spiky_run1','ec2_dynamo_spiky_run2','lambda_dynamo_spiky_run1','lambda_dynamo_spiky_run2'])\n",
    "ts2.savefig(\"./plots/ts-dynamo-bursty.pdf\",format=\"pdf\",bbox_inches=\"tight\")"
   ]
  },
  {
   "cell_type": "markdown",
   "id": "7c36f1f3-197e-42f8-be82-74f5ace22257",
   "metadata": {},
   "source": [
    "### BAR PLOTS"
   ]
  },
  {
   "cell_type": "code",
   "execution_count": null,
   "id": "dfecbafe-09fb-4f4a-a88e-5f2473ff733d",
   "metadata": {},
   "outputs": [],
   "source": [
    "# CONCAT THE TWO RUNS PER CONFIG INTO ONE DATAFRAME\n",
    "df_ec2_dynamo_constant = pd.concat([df_ec2_dynamo_constant_run1,df_ec2_dynamo_constant_run2])\n",
    "df_lambda_dynamo_constant = pd.concat([df_lambda_dynamo_constant_run1,df_lambda_dynamo_constant_run2])\n",
    "df_ec2_dynamo_spiky = pd.concat([df_ec2_dynamo_spiky_run1,df_ec2_dynamo_spiky_run2])\n",
    "df_lambda_dynamo_spiky = pd.concat([df_lambda_dynamo_spiky_run1,df_lambda_dynamo_spiky_run2])"
   ]
  },
  {
   "cell_type": "code",
   "execution_count": null,
   "id": "19ae24c3-22a2-494e-bd9f-930e7fac099a",
   "metadata": {},
   "outputs": [],
   "source": [
    "# DROP OUTLIERS\n",
    "df_ec2_dynamo_constant_clean,stats9 = util.remove_outliers(df_ec2_dynamo_constant)\n",
    "df_lambda_dynamo_constant_clean,stats10 = util.remove_outliers(df_lambda_dynamo_constant)\n",
    "df_ec2_dynamo_spiky_clean,stats11 = util.remove_outliers(df_ec2_dynamo_spiky)\n",
    "df_lambda_dynamo_spiky_clean,stats12 = util.remove_outliers(df_lambda_dynamo_spiky)"
   ]
  },
  {
   "cell_type": "code",
   "execution_count": null,
   "id": "6f08806b-7443-474c-890c-03939d019157",
   "metadata": {},
   "outputs": [],
   "source": [
    "# EC2 AND LAMBDA WITH DYNAMO UNDER CONSTANT LOAD\n",
    "fig1 = util.final_plot(df_ec2_dynamo_constant_clean,stats9,df_lambda_dynamo_constant_clean,stats10)\n",
    "fig1.savefig(\"./plots/bar-dynamo-constant.pdf\",format=\"pdf\",bbox_inches=\"tight\")\n",
    "\n",
    "# EC2 AND LAMBDA WITH DYNAMO UNDER BURSTY LOAD\n",
    "fig2 = util.final_plot(df_ec2_dynamo_spiky_clean,stats11,df_lambda_dynamo_spiky_clean,stats12)\n",
    "fig2.savefig(\"./plots/bar-dynamo-bursty.pdf\",format=\"pdf\",bbox_inches=\"tight\")"
   ]
  },
  {
   "cell_type": "code",
   "execution_count": null,
   "id": "9eb78bef-730f-4895-8125-cf6dd6159caa",
   "metadata": {},
   "outputs": [],
   "source": []
  }
 ],
 "metadata": {
  "kernelspec": {
   "display_name": "Python 3 (ipykernel)",
   "language": "python",
   "name": "python3"
  },
  "language_info": {
   "codemirror_mode": {
    "name": "ipython",
    "version": 3
   },
   "file_extension": ".py",
   "mimetype": "text/x-python",
   "name": "python",
   "nbconvert_exporter": "python",
   "pygments_lexer": "ipython3",
   "version": "3.12.3"
  }
 },
 "nbformat": 4,
 "nbformat_minor": 5
}
