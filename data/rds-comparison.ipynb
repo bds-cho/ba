{
 "cells": [
  {
   "cell_type": "code",
   "execution_count": null,
   "id": "579c56d1-d559-4625-b11e-0514bc6ac76c",
   "metadata": {},
   "outputs": [],
   "source": [
    "import util\n",
    "import pandas as pd"
   ]
  },
  {
   "cell_type": "code",
   "execution_count": null,
   "id": "c2c3b16c-5d72-4fec-a728-beab223702a6",
   "metadata": {},
   "outputs": [],
   "source": [
    "# EC2-RDS DATA\n",
    "df_ec2_rds_constant_run1 = util.trim_df(util.to_df_ec2('./target-rds/ec2-rds-constant-1726425199-run1.log'))\n",
    "df_ec2_rds_constant_run2 = util.trim_df(util.to_df_ec2('./target-rds/ec2-rds-constant-1726478017-run2.log'))\n",
    "df_ec2_rds_spiky_run1 = util.trim_df(util.to_df_ec2('./target-rds/ec2-rds-spiky-1725275710-run1.log'))\n",
    "df_ec2_rds_spiky_run2 = util.trim_df(util.to_df_ec2('./target-rds/ec2-rds-spiky-1726393331-run2.log'))\n",
    "\n",
    "# LAMBDA-RDS DATA\n",
    "df_lambda_rds_constant_run1 = util.trim_df(util.to_df_lambda('./target-rds/lambda-rds-constant-1726287347-run1.log'))\n",
    "df_lambda_rds_constant_run2 = util.trim_df(util.to_df_lambda('./target-rds/lambda-rds-constant-1726338686-run2.log'))\n",
    "df_lambda_rds_spiky_run1 = util.trim_df(util.to_df_lambda('./target-rds/lambda-rds-spiky-1726212879-run1.log'))\n",
    "df_lambda_rds_spiky_run2 = util.trim_df(util.to_df_lambda('./target-rds/lambda-rds-spiky-1726252345-run2.log'))"
   ]
  },
  {
   "cell_type": "code",
   "execution_count": null,
   "id": "30682335-6b3a-4c11-b5e1-74de66aac889",
   "metadata": {},
   "outputs": [],
   "source": [
    "# SUMMARY OF SPECIFIC RUNS\n",
    "print('\\n----------> df_ec2_rds_constant_run1 <----------');util.summary(df_ec2_rds_constant_run1,'latency')\n",
    "print('\\n----------> df_ec2_rds_constant_run2 <----------');util.summary(df_ec2_rds_constant_run2,'latency')\n",
    "print('\\n----------> df_ec2_rds_spiky_run1 <----------');util.summary(df_ec2_rds_spiky_run1,'latency')\n",
    "print('\\n----------> df_ec2_rds_spiky_run2 <----------');util.summary(df_ec2_rds_spiky_run2,'latency')\n",
    "print('\\n----------> df_lambda_rds_constant_run1 <----------');util.summary(df_lambda_rds_constant_run1,'latency')\n",
    "print('\\n----------> df_lambda_rds_constant_run2 <----------');util.summary(df_lambda_rds_constant_run2,'latency')\n",
    "print('\\n----------> df_lambda_rds_spiky_run1 <----------');util.summary(df_lambda_rds_spiky_run1,'latency')\n",
    "print('\\n----------> df_lambda_rds_spiky_run2 <----------');util.summary(df_lambda_rds_spiky_run2,'latency')"
   ]
  },
  {
   "cell_type": "code",
   "execution_count": null,
   "id": "ae8b29c2-fd88-4b74-9ff9-d58aae050b75",
   "metadata": {},
   "outputs": [],
   "source": [
    "# EC2 AND LAMBDA WITH RDS UNDER CONSTANT LOAD (TIME-SERIES GRAPH)\n",
    "util.plot_multiple([df_ec2_rds_constant_run1,df_ec2_rds_constant_run2,df_lambda_rds_constant_run1,df_lambda_rds_constant_run2],['ec2_rds_constant_run1','ec2_rds_constant_run2','lambda_rds_constant_run1','lambda_rds_constant_run2'])"
   ]
  },
  {
   "cell_type": "code",
   "execution_count": null,
   "id": "b556cae4-a655-439a-a594-8fc62c503cd1",
   "metadata": {},
   "outputs": [],
   "source": [
    "# EC2 AND LAMBDA WITH RDS UNDER BURSTY LOAD (TIME-SERIES GRAPH)\n",
    "util.plot_multiple([df_ec2_rds_spiky_run1,df_ec2_rds_spiky_run2,df_lambda_rds_spiky_run1,df_lambda_rds_spiky_run2],['ec2_rds_spiky_run1','ec2_rds_spiky_run2','lambda_rds_spiky_run1','lambda_rds_spiky_run2'])"
   ]
  },
  {
   "cell_type": "code",
   "execution_count": null,
   "id": "9b4005ef-394b-4bef-bcf4-49561f1b6ba5",
   "metadata": {},
   "outputs": [],
   "source": [
    "# CONCAT THE TWO RUNS PER CONFIG INTO ONE DATAFRAME\n",
    "df_ec2_rds_constant = pd.concat([df_ec2_rds_constant_run1,df_ec2_rds_constant_run2])\n",
    "df_lambda_rds_constant = pd.concat([df_lambda_rds_constant_run1,df_lambda_rds_constant_run2])\n",
    "df_ec2_rds_spiky = pd.concat([df_ec2_rds_spiky_run1,df_ec2_rds_spiky_run2])\n",
    "df_lambda_rds_spiky = pd.concat([df_lambda_rds_spiky_run1,df_lambda_rds_spiky_run2])"
   ]
  },
  {
   "cell_type": "code",
   "execution_count": null,
   "id": "aa325225-c63a-4553-b4e9-8cf3281d1ab1",
   "metadata": {},
   "outputs": [],
   "source": [
    "# SUMMARY BEFORE DROPPING OUTLIERS\n",
    "util.summary(df_ec2_rds_constant,'latency')\n",
    "util.summary(df_lambda_rds_constant,'latency')\n",
    "util.summary(df_ec2_rds_spiky,'latency')\n",
    "util.summary(df_lambda_rds_spiky,'latency')"
   ]
  },
  {
   "cell_type": "code",
   "execution_count": null,
   "id": "3f179073-ace4-4177-a26d-b27e0340a8d1",
   "metadata": {},
   "outputs": [],
   "source": [
    "# DROP OUTLIERS\n",
    "df1,stats1 = util.remove_outliers(df_ec2_rds_constant)\n",
    "df2,stats2 = util.remove_outliers(df_lambda_rds_constant)\n",
    "df3,stats3 = util.remove_outliers(df_ec2_rds_spiky)\n",
    "df4,stats4 = util.remove_outliers(df_lambda_rds_spiky)"
   ]
  },
  {
   "cell_type": "code",
   "execution_count": null,
   "id": "0a8a54ba-3f69-4f96-9e15-d1a117b671ad",
   "metadata": {},
   "outputs": [],
   "source": [
    "# SUMMARY AFTER DROPPING OUTLIERS\n",
    "util.summary(df1,'latency')\n",
    "util.summary(df2,'latency')\n",
    "util.summary(df3,'latency')\n",
    "util.summary(df4,'latency')"
   ]
  },
  {
   "cell_type": "code",
   "execution_count": null,
   "id": "07a7b102-2a13-4ad6-9c30-f2473d8c11c5",
   "metadata": {},
   "outputs": [],
   "source": [
    "# EC2 AND LAMBDA WITH RDS UNDER CONSTANT LOAD\n",
    "fig1 = util.final_plot(stats1,stats2)\n",
    "fig1.savefig(\"./plots/target-rds-constant.png\",dpi=300,bbox_inches=\"tight\")\n",
    "\n",
    "# EC2 AND LAMBDA WITH RDS UNDER BURSTY LOAD\n",
    "fig2 = util.final_plot(stats3,stats4)\n",
    "fig2.savefig(\"./plots/target-rds-bursty.png\",dpi=300,bbox_inches=\"tight\")"
   ]
  },
  {
   "cell_type": "code",
   "execution_count": null,
   "id": "87620bb7-b905-4efd-875e-63452861b45b",
   "metadata": {},
   "outputs": [],
   "source": []
  }
 ],
 "metadata": {
  "kernelspec": {
   "display_name": "Python 3 (ipykernel)",
   "language": "python",
   "name": "python3"
  },
  "language_info": {
   "codemirror_mode": {
    "name": "ipython",
    "version": 3
   },
   "file_extension": ".py",
   "mimetype": "text/x-python",
   "name": "python",
   "nbconvert_exporter": "python",
   "pygments_lexer": "ipython3",
   "version": "3.12.3"
  }
 },
 "nbformat": 4,
 "nbformat_minor": 5
}
