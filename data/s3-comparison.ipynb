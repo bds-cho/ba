{
 "cells": [
  {
   "cell_type": "code",
   "execution_count": null,
   "id": "b4116d52-6681-4212-a6fd-2ef6eb16ba25",
   "metadata": {},
   "outputs": [],
   "source": [
    "import util\n",
    "import pandas as pd"
   ]
  },
  {
   "cell_type": "code",
   "execution_count": null,
   "id": "8f3f0a6a-39e8-455e-8d0d-11169df08868",
   "metadata": {},
   "outputs": [],
   "source": [
    "# EC2-S3 DATA\n",
    "df_ec2_s3_constant_run1 = util.to_df_ec2('./target-s3/ec2-s3-constant-1724870817-run1.log')\n",
    "df_ec2_s3_constant_run2 = util.to_df_ec2('./target-s3/ec2-s3-constant-1725112883-run2.log')\n",
    "df_ec2_s3_spiky_run1 = util.to_df_ec2('./target-s3/ec2-s3-spiky-1724861092-run1.log')\n",
    "df_ec2_s3_spiky_run2 = util.to_df_ec2('./target-s3/ec2-s3-spiky-1724866112-run2.log')\n",
    "df_ec2_s3_spiky_run3 = util.to_df_ec2('./target-s3/ec2-s3-spiky-1726987789-run3.log')\n",
    "\n",
    "# LAMBDA-S3 DATA\n",
    "df_lambda_s3_constant_run1 = util.to_df_lambda('./target-s3/lambda-s3-constant-1725213879-run1.log')\n",
    "df_lambda_s3_constant_run2 = util.to_df_lambda('./target-s3/lambda-s3-constant-1725225600-run2.log')\n",
    "df_lambda_s3_spiky_run1 = util.to_df_lambda('./target-s3/lambda-s3-spiky-1725190281-run1.log')\n",
    "df_lambda_s3_spiky_run2 = util.to_df_lambda('./target-s3/lambda-s3-spiky-1725205712-run2.log')"
   ]
  },
  {
   "cell_type": "code",
   "execution_count": null,
   "id": "9f8cbdc6-4c81-4ee2-9213-38f53268637e",
   "metadata": {},
   "outputs": [],
   "source": [
    "# SUMMARY OF SPECIFIC RUNS\n",
    "print('\\n----------> df_ec2_s3_constant_run1 <----------');util.summary(df_ec2_s3_constant_run1,'latency')\n",
    "print('\\n----------> df_ec2_s3_constant_run2 <----------');util.summary(df_ec2_s3_constant_run2,'latency')\n",
    "print('\\n----------> df_ec2_s3_spiky_run1 <----------');util.summary(df_ec2_s3_spiky_run1,'latency')\n",
    "print('\\n----------> df_ec2_s3_spiky_run2 <----------');util.summary(df_ec2_s3_spiky_run2,'latency')\n",
    "print('\\n----------> df_ec2_s3_spiky_run3 <----------');util.summary(df_ec2_s3_spiky_run3,'latency')\n",
    "print('\\n----------> df_lambda_s3_constant_run1 <----------');util.summary(df_lambda_s3_constant_run1,'latency')\n",
    "print('\\n----------> df_lambda_s3_constant_run2 <----------');util.summary(df_lambda_s3_constant_run2,'latency')\n",
    "print('\\n----------> df_lambda_s3_spiky_run1 <----------');util.summary(df_lambda_s3_spiky_run1,'latency')\n",
    "print('\\n----------> df_lambda_s3_spiky_run2 <----------');util.summary(df_lambda_s3_spiky_run2,'latency')"
   ]
  },
  {
   "cell_type": "markdown",
   "id": "0fb5fa59-d7e5-4123-8a03-d0759ba457b2",
   "metadata": {},
   "source": [
    "### OUTLIERS"
   ]
  },
  {
   "cell_type": "code",
   "execution_count": null,
   "id": "4a1095c5-82e0-4a9a-96b0-4f23908f94ee",
   "metadata": {},
   "outputs": [],
   "source": [
    "# ANALYZE OUTLIERS\n",
    "\n",
    "df_ec2_s3_constant_run1_outs,outstats1 = util.outliers(df_ec2_s3_constant_run1)\n",
    "df_ec2_s3_constant_run2_outs,outstats2 = util.outliers(df_ec2_s3_constant_run2)\n",
    "df_ec2_s3_spiky_run1_outs,outstats3 = util.outliers(df_ec2_s3_spiky_run1)\n",
    "df_ec2_s3_spiky_run2_outs,outstats4 = util.outliers(df_ec2_s3_spiky_run3)\n",
    "\n",
    "df_lambda_s3_constant_run1_outs,outstats5 = util.outliers(df_lambda_s3_constant_run1)\n",
    "df_lambda_s3_constant_run2_outs,outstats6 = util.outliers(df_lambda_s3_constant_run2)\n",
    "df_lambda_s3_spiky_run1_outs,outstats7 = util.outliers(df_lambda_s3_spiky_run1)\n",
    "df_lambda_s3_spiky_run2_outs,outstats8 = util.outliers(df_lambda_s3_spiky_run2)\n",
    "\n",
    "print(f\"EC2-S3-CONSTANT-RUN1: {outstats1[\"Value\"]}\")\n",
    "print(f\"EC2-S3-CONSTANT-RUN2: {outstats2[\"Value\"]}\")\n",
    "print(f\"EC2-S3-SPIKY-RUN1: {outstats3[\"Value\"]}\")\n",
    "print(f\"EC2-S3-SPIKY-RUN2: {outstats4[\"Value\"]}\")\n",
    "print(\"\\n\")\n",
    "print(f\"LAMBDA-S3-CONSTANT-RUN1: {outstats5[\"Value\"]}\")\n",
    "print(f\"LAMBDA-S3-CONSTANT-RUN2: {outstats6[\"Value\"]}\")\n",
    "print(f\"LAMBDA-S3-SPIKY-RUN1: {outstats7[\"Value\"]}\")\n",
    "print(f\"LAMBDA-S3-SPIKY-RUN2: {outstats8[\"Value\"]}\")"
   ]
  },
  {
   "cell_type": "markdown",
   "id": "7389cdf8-554c-473b-9335-a02d93282705",
   "metadata": {},
   "source": [
    "### TIME-SERIES GRAPHS"
   ]
  },
  {
   "cell_type": "code",
   "execution_count": null,
   "id": "6e1b50c1-2fe0-49e4-ba00-8846e7b77cc5",
   "metadata": {},
   "outputs": [],
   "source": [
    "# DROP OUTLIERS\n",
    "\n",
    "df_ec2_s3_constant_run1_clean,stats1 = util.remove_outliers(df_ec2_s3_constant_run1)\n",
    "df_ec2_s3_constant_run2_clean,stats2 = util.remove_outliers(df_ec2_s3_constant_run2)\n",
    "df_ec2_s3_spiky_run1_clean,stats3 = util.remove_outliers(df_ec2_s3_spiky_run1)\n",
    "df_ec2_s3_spiky_run2_clean,stats4 = util.remove_outliers(df_ec2_s3_spiky_run3)\n",
    "\n",
    "df_lambda_s3_constant_run1_clean,stats5 = util.remove_outliers(df_lambda_s3_constant_run1)\n",
    "df_lambda_s3_constant_run2_clean,stats6 = util.remove_outliers(df_lambda_s3_constant_run2)\n",
    "df_lambda_s3_spiky_run1_clean,stats7 = util.remove_outliers(df_lambda_s3_spiky_run1)\n",
    "df_lambda_s3_spiky_run2_clean,stats8 = util.remove_outliers(df_lambda_s3_spiky_run2)"
   ]
  },
  {
   "cell_type": "code",
   "execution_count": null,
   "id": "4d0c9c92-dd5d-491f-ad92-15abf9c0d42d",
   "metadata": {},
   "outputs": [],
   "source": [
    "# EC2 AND LAMBDA WITH DYNAMO UNDER CONSTANT LOAD (TIME-SERIES GRAPH)\n",
    "ts1 = util.plot_multiple([df_ec2_s3_constant_run1_clean,df_ec2_s3_constant_run2_clean,df_lambda_s3_constant_run1_clean,df_lambda_s3_constant_run2_clean],['ec2_s3_constant_run1','ec2_s3_constant_run2','lambda_s3_constant_run1','lambda_s3_constant_run2'])\n",
    "ts1.savefig(\"./plots/ts-s3-constant.pdf\",format=\"pdf\",bbox_inches=\"tight\")"
   ]
  },
  {
   "cell_type": "code",
   "execution_count": null,
   "id": "f0058732-8b88-4060-9b8c-eea5fca805bf",
   "metadata": {},
   "outputs": [],
   "source": [
    "# EC2 AND LAMBDA WITH DYNAMO UNDER BURSTY LOAD (TIME-SERIES GRAPH)\n",
    "ts2 = util.plot_multiple([df_ec2_s3_spiky_run1_clean,df_ec2_s3_spiky_run2_clean,df_lambda_s3_spiky_run1_clean,df_lambda_s3_spiky_run2_clean],['ec2_s3_spiky_run1','ec2_s3_spiky_run2','lambda_s3_spiky_run1','lambda_s3_spiky_run2'])\n",
    "ts2.savefig(\"./plots/ts-s3-bursty.pdf\",format=\"pdf\",bbox_inches=\"tight\")"
   ]
  },
  {
   "cell_type": "markdown",
   "id": "1d73b2e7-09b5-4030-b516-e320ded3cf70",
   "metadata": {},
   "source": [
    "### BAR PLOTS"
   ]
  },
  {
   "cell_type": "code",
   "execution_count": null,
   "id": "4ef1dbc8-c72c-49d1-a701-9c8be597fe9d",
   "metadata": {},
   "outputs": [],
   "source": [
    "# CONCAT THE TWO RUNS PER CONFIG INTO ONE DATAFRAME\n",
    "df_ec2_s3_constant = pd.concat([df_ec2_s3_constant_run1,df_ec2_s3_constant_run2])\n",
    "df_lambda_s3_constant = pd.concat([df_lambda_s3_constant_run1,df_lambda_s3_constant_run2])\n",
    "df_ec2_s3_spiky = pd.concat([df_ec2_s3_spiky_run1,df_ec2_s3_spiky_run3])\n",
    "df_lambda_s3_spiky = pd.concat([df_lambda_s3_spiky_run1,df_lambda_s3_spiky_run2])"
   ]
  },
  {
   "cell_type": "code",
   "execution_count": null,
   "id": "2029e6bf-2dd7-46f3-9610-7f008591d605",
   "metadata": {},
   "outputs": [],
   "source": [
    "# DROP OUTLIERS\n",
    "df_ec2_s3_constant_clean,stats9 = util.remove_outliers(df_ec2_s3_constant)\n",
    "df_lambda_s3_constant_clean,stats10 = util.remove_outliers(df_lambda_s3_constant)\n",
    "df_ec2_s3_spiky_clean,stats11 = util.remove_outliers(df_ec2_s3_spiky)\n",
    "df_lambda_s3_spiky_clean,stats12 = util.remove_outliers(df_lambda_s3_spiky)"
   ]
  },
  {
   "cell_type": "code",
   "execution_count": null,
   "id": "d968e12b-912c-481d-8cd5-4822b0a91d48",
   "metadata": {},
   "outputs": [],
   "source": [
    "# EC2 AND LAMBDA WITH S3 UNDER CONSTANT LOAD\n",
    "fig1 = util.final_plot(df_ec2_s3_constant_clean,stats9,df_lambda_s3_constant_clean,stats10)\n",
    "fig1.savefig(\"./plots/bar-s3-constant.pdf\",format=\"pdf\",bbox_inches=\"tight\")\n",
    "\n",
    "# EC2 AND LAMBDA WITH S3 UNDER BURSTY LOAD\n",
    "fig2 = util.final_plot(df_ec2_s3_spiky_clean,stats11,df_lambda_s3_spiky_clean,stats12)\n",
    "fig2.savefig(\"./plots/bar-s3-bursty.pdf\",format=\"pdf\",bbox_inches=\"tight\")"
   ]
  },
  {
   "cell_type": "code",
   "execution_count": null,
   "id": "177fe35c-c097-449a-9c2b-1375cc2b50b3",
   "metadata": {},
   "outputs": [],
   "source": []
  }
 ],
 "metadata": {
  "kernelspec": {
   "display_name": "Python 3 (ipykernel)",
   "language": "python",
   "name": "python3"
  },
  "language_info": {
   "codemirror_mode": {
    "name": "ipython",
    "version": 3
   },
   "file_extension": ".py",
   "mimetype": "text/x-python",
   "name": "python",
   "nbconvert_exporter": "python",
   "pygments_lexer": "ipython3",
   "version": "3.12.3"
  }
 },
 "nbformat": 4,
 "nbformat_minor": 5
}
