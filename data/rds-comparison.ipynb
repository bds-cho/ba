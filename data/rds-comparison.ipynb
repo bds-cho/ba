{
 "cells": [
  {
   "cell_type": "code",
   "execution_count": null,
   "id": "579c56d1-d559-4625-b11e-0514bc6ac76c",
   "metadata": {},
   "outputs": [],
   "source": [
    "import util\n",
    "import pandas as pd"
   ]
  },
  {
   "cell_type": "code",
   "execution_count": null,
   "id": "c2c3b16c-5d72-4fec-a728-beab223702a6",
   "metadata": {},
   "outputs": [],
   "source": [
    "# EC2-RDS DATA\n",
    "df_ec2_rds_constant_run1 = util.to_df_ec2('./target-rds/ec2-rds-constant-1726425199-run1.log')\n",
    "df_ec2_rds_constant_run2 = util.to_df_ec2('./target-rds/ec2-rds-constant-1726478017-run2.log')\n",
    "df_ec2_rds_spiky_run1 = util.to_df_ec2('./target-rds/ec2-rds-spiky-1725275710-run1.log')\n",
    "df_ec2_rds_spiky_run2 = util.to_df_ec2('./target-rds/ec2-rds-spiky-1726393331-run2.log')\n",
    "\n",
    "# LAMBDA-RDS DATA\n",
    "df_lambda_rds_constant_run1 = util.to_df_lambda('./target-rds/lambda-rds-constant-1726287347-run1.log')\n",
    "df_lambda_rds_constant_run2 = util.to_df_lambda('./target-rds/lambda-rds-constant-1726338686-run2.log')\n",
    "df_lambda_rds_spiky_run1 = util.to_df_lambda('./target-rds/lambda-rds-spiky-1726212879-run1.log')\n",
    "df_lambda_rds_spiky_run2 = util.to_df_lambda('./target-rds/lambda-rds-spiky-1726252345-run2.log')"
   ]
  },
  {
   "cell_type": "code",
   "execution_count": null,
   "id": "30682335-6b3a-4c11-b5e1-74de66aac889",
   "metadata": {},
   "outputs": [],
   "source": [
    "# SUMMARY OF SPECIFIC RUNS\n",
    "print('\\n----------> df_ec2_rds_constant_run1 <----------');util.summary(df_ec2_rds_constant_run1,'latency')\n",
    "print('\\n----------> df_ec2_rds_constant_run2 <----------');util.summary(df_ec2_rds_constant_run2,'latency')\n",
    "print('\\n----------> df_ec2_rds_spiky_run1 <----------');util.summary(df_ec2_rds_spiky_run1,'latency')\n",
    "print('\\n----------> df_ec2_rds_spiky_run2 <----------');util.summary(df_ec2_rds_spiky_run2,'latency')\n",
    "print('\\n----------> df_lambda_rds_constant_run1 <----------');util.summary(df_lambda_rds_constant_run1,'latency')\n",
    "print('\\n----------> df_lambda_rds_constant_run2 <----------');util.summary(df_lambda_rds_constant_run2,'latency')\n",
    "print('\\n----------> df_lambda_rds_spiky_run1 <----------');util.summary(df_lambda_rds_spiky_run1,'latency')\n",
    "print('\\n----------> df_lambda_rds_spiky_run2 <----------');util.summary(df_lambda_rds_spiky_run2,'latency')"
   ]
  },
  {
   "cell_type": "markdown",
   "id": "c264d9e5-ccf7-4281-bf73-32319b69bbeb",
   "metadata": {},
   "source": [
    "### OUTLIERS"
   ]
  },
  {
   "cell_type": "code",
   "execution_count": null,
   "id": "6fbcaee4-fbb6-4a07-a413-a175e61d7d96",
   "metadata": {},
   "outputs": [],
   "source": [
    "# ANALYZE OUTLIERS\n",
    "\n",
    "df_ec2_rds_constant_run1_outs,outstats1 = util.outliers(df_ec2_rds_constant_run1)\n",
    "df_ec2_rds_constant_run2_outs,outstats2 = util.outliers(df_ec2_rds_constant_run2)\n",
    "df_ec2_rds_spiky_run1_outs,outstats3 = util.outliers(df_ec2_rds_spiky_run1)\n",
    "df_ec2_rds_spiky_run2_outs,outstats4 = util.outliers(df_ec2_rds_spiky_run2)\n",
    "\n",
    "df_lambda_rds_constant_run1_outs,outstats5 = util.outliers(df_lambda_rds_constant_run1)\n",
    "df_lambda_rds_constant_run2_outs,outstats6 = util.outliers(df_lambda_rds_constant_run2)\n",
    "df_lambda_rds_spiky_run1_outs,outstats7 = util.outliers(df_lambda_rds_spiky_run1)\n",
    "df_lambda_rds_spiky_run2_outs,outstats8 = util.outliers(df_lambda_rds_spiky_run2)\n",
    "\n",
    "print(f\"EC2-RDS-CONSTANT-RUN1: {outstats1[\"Value\"]}\")\n",
    "print(f\"EC2-RDS-CONSTANT-RUN2: {outstats2[\"Value\"]}\")\n",
    "print(f\"EC2-RDS-SPIKY-RUN1: {outstats3[\"Value\"]}\")\n",
    "print(f\"EC2-RDS-SPIKY-RUN2: {outstats4[\"Value\"]}\")\n",
    "print(\"\\n\")\n",
    "print(f\"LAMBDA-RDS-CONSTANT-RUN1: {outstats5[\"Value\"]}\")\n",
    "print(f\"LAMBDA-RDS-CONSTANT-RUN2: {outstats6[\"Value\"]}\")\n",
    "print(f\"LAMBDA-RDS-SPIKY-RUN1: {outstats7[\"Value\"]}\")\n",
    "print(f\"LAMBDA-RDS-SPIKY-RUN2: {outstats8[\"Value\"]}\")"
   ]
  },
  {
   "cell_type": "markdown",
   "id": "5415f2f7-443d-4320-9118-2eddd30978b1",
   "metadata": {},
   "source": [
    "### TIME-SERIES GRAPHS"
   ]
  },
  {
   "cell_type": "code",
   "execution_count": null,
   "id": "89f9a084-468b-43c4-b8e1-9f8af9c7f177",
   "metadata": {},
   "outputs": [],
   "source": [
    "# DROP OUTLIERS\n",
    "\n",
    "df_ec2_rds_constant_run1_clean,stats1 = util.remove_outliers(df_ec2_rds_constant_run1)\n",
    "df_ec2_rds_constant_run2_clean,stats2 = util.remove_outliers(df_ec2_rds_constant_run2)\n",
    "df_ec2_rds_spiky_run1_clean,stats3 = util.remove_outliers(df_ec2_rds_spiky_run1)\n",
    "df_ec2_rds_spiky_run2_clean,stats4 = util.remove_outliers(df_ec2_rds_spiky_run2)\n",
    "\n",
    "df_lambda_rds_constant_run1_clean,stats5 = util.remove_outliers(df_lambda_rds_constant_run1)\n",
    "df_lambda_rds_constant_run2_clean,stats6 = util.remove_outliers(df_lambda_rds_constant_run2)\n",
    "df_lambda_rds_spiky_run1_clean,stats7 = util.remove_outliers(df_lambda_rds_spiky_run1)\n",
    "df_lambda_rds_spiky_run2_clean,stats8 = util.remove_outliers(df_lambda_rds_spiky_run2)"
   ]
  },
  {
   "cell_type": "code",
   "execution_count": null,
   "id": "ae8b29c2-fd88-4b74-9ff9-d58aae050b75",
   "metadata": {},
   "outputs": [],
   "source": [
    "# EC2 AND LAMBDA WITH RDS UNDER CONSTANT LOAD (TIME-SERIES GRAPH)\n",
    "ts1 = util.plot_multiple([df_ec2_rds_constant_run1_clean,df_ec2_rds_constant_run2_clean,df_lambda_rds_constant_run1_clean,df_lambda_rds_constant_run2_clean],['ec2_rds_constant_run1','ec2_rds_constant_run2','lambda_rds_constant_run1','lambda_rds_constant_run2'])\n",
    "ts1.savefig(\"./plots/ts-rds-constant.pdf\",format=\"pdf\",bbox_inches=\"tight\")"
   ]
  },
  {
   "cell_type": "code",
   "execution_count": null,
   "id": "b556cae4-a655-439a-a594-8fc62c503cd1",
   "metadata": {},
   "outputs": [],
   "source": [
    "# EC2 AND LAMBDA WITH RDS UNDER BURSTY LOAD (TIME-SERIES GRAPH)\n",
    "ts2 = util.plot_multiple([df_ec2_rds_spiky_run1_clean,df_ec2_rds_spiky_run2_clean,df_lambda_rds_spiky_run1_clean,df_lambda_rds_spiky_run2_clean],['ec2_rds_spiky_run1','ec2_rds_spiky_run2','lambda_rds_spiky_run1','lambda_rds_spiky_run2'])\n",
    "ts2.savefig(\"./plots/ts-rds-bursty.pdf\",format=\"pdf\",bbox_inches=\"tight\")"
   ]
  },
  {
   "cell_type": "markdown",
   "id": "c9a5a9c7-8c2a-4dc5-bc53-02b7f2f46798",
   "metadata": {},
   "source": [
    "### BAR PLOTS"
   ]
  },
  {
   "cell_type": "code",
   "execution_count": null,
   "id": "9b4005ef-394b-4bef-bcf4-49561f1b6ba5",
   "metadata": {},
   "outputs": [],
   "source": [
    "# CONCAT THE TWO UNCLEAN RUNS PER CONFIG INTO ONE DATAFRAME\n",
    "df_ec2_rds_constant = pd.concat([df_ec2_rds_constant_run1,df_ec2_rds_constant_run2])\n",
    "df_lambda_rds_constant = pd.concat([df_lambda_rds_constant_run1,df_lambda_rds_constant_run2])\n",
    "df_ec2_rds_spiky = pd.concat([df_ec2_rds_spiky_run1,df_ec2_rds_spiky_run2])\n",
    "df_lambda_rds_spiky = pd.concat([df_lambda_rds_spiky_run1,df_lambda_rds_spiky_run2])"
   ]
  },
  {
   "cell_type": "code",
   "execution_count": null,
   "id": "3f179073-ace4-4177-a26d-b27e0340a8d1",
   "metadata": {},
   "outputs": [],
   "source": [
    "# DROP OUTLIERS\n",
    "df_ec2_rds_constant_clean,stats9 = util.remove_outliers(df_ec2_rds_constant)\n",
    "df_lambda_rds_constant_clean,stats10 = util.remove_outliers(df_lambda_rds_constant)\n",
    "df_ec2_rds_spiky_clean,stats11 = util.remove_outliers(df_ec2_rds_spiky)\n",
    "df_lambda_rds_spiky_clean,stats12 = util.remove_outliers(df_lambda_rds_spiky)"
   ]
  },
  {
   "cell_type": "code",
   "execution_count": null,
   "id": "07a7b102-2a13-4ad6-9c30-f2473d8c11c5",
   "metadata": {},
   "outputs": [],
   "source": [
    "# EC2 AND LAMBDA WITH RDS UNDER CONSTANT LOAD\n",
    "fig1 = util.final_plot(df_ec2_rds_constant_clean,stats9,df_lambda_rds_constant_clean,stats10)\n",
    "fig1.savefig(\"./plots/bar-rds-constant.pdf\",format=\"pdf\",bbox_inches=\"tight\")\n",
    "\n",
    "# EC2 AND LAMBDA WITH RDS UNDER BURSTY LOAD\n",
    "fig2 = util.final_plot(df_ec2_rds_spiky_clean,stats11,df_lambda_rds_spiky_clean,stats12)\n",
    "fig2.savefig(\"./plots/bar-rds-bursty.pdf\",format=\"pdf\",bbox_inches=\"tight\")"
   ]
  },
  {
   "cell_type": "code",
   "execution_count": null,
   "id": "a4a51127-cb22-4b55-a9a3-e5c5a4f1a954",
   "metadata": {},
   "outputs": [],
   "source": []
  }
 ],
 "metadata": {
  "kernelspec": {
   "display_name": "Python 3 (ipykernel)",
   "language": "python",
   "name": "python3"
  },
  "language_info": {
   "codemirror_mode": {
    "name": "ipython",
    "version": 3
   },
   "file_extension": ".py",
   "mimetype": "text/x-python",
   "name": "python",
   "nbconvert_exporter": "python",
   "pygments_lexer": "ipython3",
   "version": "3.12.3"
  }
 },
 "nbformat": 4,
 "nbformat_minor": 5
}
