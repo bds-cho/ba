{
 "cells": [
  {
   "cell_type": "code",
   "execution_count": 18,
   "id": "b4116d52-6681-4212-a6fd-2ef6eb16ba25",
   "metadata": {},
   "outputs": [],
   "source": [
    "import pandas as pd\n",
    "import matplotlib.pyplot as plt\n",
    "import json\n",
    "import util"
   ]
  },
  {
   "cell_type": "code",
   "execution_count": 19,
   "id": "8f3f0a6a-39e8-455e-8d0d-11169df08868",
   "metadata": {},
   "outputs": [],
   "source": [
    "# EC2-S3 data\n",
    "df_ec2_s3_constant_run1 = to_df_ec2('./target-s3/ec2-s3-constant-1724870817-run1.log')\n",
    "df_ec2_s3_constant_run2 = to_df_ec2('./target-s3/ec2-s3-constant-1725112883-run2.log')\n",
    "df_ec2_s3_spiky_run1 = to_df_ec2('./target-s3/ec2-s3-spiky-1724861092-run1.log')\n",
    "df_ec2_s3_spiky_run2 = to_df_ec2('./target-s3/ec2-s3-spiky-1724866112-run2.log')\n",
    "\n",
    "# Lambda-S3 data\n",
    "df_lambda_s3_constant_run1 = to_df_lambda('./target-s3/lambda-s3-constant-1725213879-run1.log')\n",
    "df_lambda_s3_constant_run2 = to_df_lambda('./target-s3/lambda-s3-constant-1725225600-run2.log')\n",
    "df_lambda_s3_spiky_run1 = to_df_lambda('./target-s3/lambda-s3-spiky-1725190281-run1.log')\n",
    "df_lambda_s3_spiky_run2 = to_df_lambda('./target-s3/lambda-s3-spiky-1725205712-run2.log')"
   ]
  },
  {
   "cell_type": "code",
   "execution_count": 13,
   "id": "9f8cbdc6-4c81-4ee2-9213-38f53268637e",
   "metadata": {},
   "outputs": [],
   "source": [
    "#df_ec2_s3_constant_run1.describe()\n",
    "#df_ec2_s3_constant_run2.describe()\n",
    "#df_ec2_s3_spiky_run1.describe()\n",
    "#df_ec2_s3_spiky_run2.describe()\n",
    "#df_lambda_s3_constant_run1.describe()\n",
    "#df_lambda_s3_constant_run2.describe()\n",
    "#df_lambda_s3_spiky_run1.describe()\n",
    "#df_lambda_s3_spiky_run2.describe()\n",
    "\n",
    "#print(df_ec2_s3_constant_run1)\n",
    "#print(df_ec2_s3_constant_run2)\n",
    "#print(df_ec2_s3_spiky_run1)\n",
    "#print(df_ec2_s3_spiky_run2)\n",
    "#print(df_lambda_s3_constant_run1)\n",
    "#print(df_lambda_s3_constant_run2)\n",
    "#print(df_lambda_s3_spiky_run1)\n",
    "#print(df_lambda_s3_spiky_run2)"
   ]
  },
  {
   "cell_type": "code",
   "execution_count": 21,
   "id": "4d0c9c92-dd5d-491f-ad92-15abf9c0d42d",
   "metadata": {},
   "outputs": [],
   "source": [
    "#plot(df_ec2_s3_constant_run1,'time','latency')\n",
    "#plot(df_ec2_s3_constant_run2,'time','latency')\n",
    "#plot(df_ec2_s3_spiky_run1,'time','latency')\n",
    "#plot(df_ec2_s3_spiky_run2,'time','latency')\n",
    "\n",
    "#plot(df_lambda_s3_constant_run1,'time','latency')\n",
    "#plot(df_lambda_s3_constant_run2,'time','latency')\n",
    "#plot(df_lambda_s3_spiky_run1,'time','latency')\n",
    "#plot(df_lambda_s3_spiky_run2,'time','latency')"
   ]
  },
  {
   "cell_type": "code",
   "execution_count": null,
   "id": "ea2be49e-5b8f-49d4-abd8-5e41e65f5b1f",
   "metadata": {},
   "outputs": [],
   "source": []
  }
 ],
 "metadata": {
  "kernelspec": {
   "display_name": "Python 3 (ipykernel)",
   "language": "python",
   "name": "python3"
  },
  "language_info": {
   "codemirror_mode": {
    "name": "ipython",
    "version": 3
   },
   "file_extension": ".py",
   "mimetype": "text/x-python",
   "name": "python",
   "nbconvert_exporter": "python",
   "pygments_lexer": "ipython3",
   "version": "3.12.3"
  }
 },
 "nbformat": 4,
 "nbformat_minor": 5
}
