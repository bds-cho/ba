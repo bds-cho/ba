{
 "cells": [
  {
   "cell_type": "code",
   "execution_count": 1,
   "id": "579c56d1-d559-4625-b11e-0514bc6ac76c",
   "metadata": {},
   "outputs": [],
   "source": [
    "import util"
   ]
  },
  {
   "cell_type": "code",
   "execution_count": 3,
   "id": "c2c3b16c-5d72-4fec-a728-beab223702a6",
   "metadata": {},
   "outputs": [],
   "source": [
    "# EC2-RDS data\n",
    "df_ec2_rds_constant_run1 = util.trim_df(util.to_df_ec2('./target-rds/ec2-rds-constant-1726425199-run1.log'))\n",
    "df_ec2_rds_constant_run2 = util.trim_df(util.to_df_ec2('./target-rds/ec2-rds-constant-1726478017-run2.log'))\n",
    "df_ec2_rds_spiky_run1 = util.trim_df(util.to_df_ec2('./target-rds/ec2-rds-spiky-1725275710-run1.log'))\n",
    "df_ec2_rds_spiky_run2 = util.trim_df(util.to_df_ec2('./target-rds/ec2-rds-spiky-1726393331-run2.log'))\n",
    "\n",
    "# Lambda-RDS data\n",
    "df_lambda_rds_constant_run1 = util.trim_df(util.to_df_lambda('./target-rds/lambda-rds-constant-1726287347-run1.log'))\n",
    "df_lambda_rds_constant_run2 = util.trim_df(util.to_df_lambda('./target-rds/lambda-rds-constant-1726338686-run2.log'))\n",
    "df_lambda_rds_spiky_run1 = util.trim_df(util.to_df_lambda('./target-rds/lambda-rds-spiky-1726212879-run1.log'))\n",
    "df_lambda_rds_spiky_run2 = util.trim_df(util.to_df_lambda('./target-rds/lambda-rds-spiky-1726252345-run2.log'))"
   ]
  },
  {
   "cell_type": "code",
   "execution_count": 7,
   "id": "30682335-6b3a-4c11-b5e1-74de66aac889",
   "metadata": {},
   "outputs": [],
   "source": [
    "#util.summary(df_ec2_rds_constant_run1,'latency')\n",
    "#util.summary(df_ec2_rds_constant_run2,'latency')\n",
    "#util.summary(df_ec2_rds_spiky_run1,'latency')\n",
    "#util.summary(df_ec2_rds_spiky_run2,'latency')\n",
    "#util.summary(df_lambda_rds_constant_run1,'latency')\n",
    "#util.summary(df_lambda_rds_constant_run2,'latency')\n",
    "#util.summary(df_lambda_rds_spiky_run1,'latency')\n",
    "#util.summary(df_lambda_rds_spiky_run2,'latency')"
   ]
  },
  {
   "cell_type": "code",
   "execution_count": null,
   "id": "ae8b29c2-fd88-4b74-9ff9-d58aae050b75",
   "metadata": {},
   "outputs": [],
   "source": []
  }
 ],
 "metadata": {
  "kernelspec": {
   "display_name": "Python 3 (ipykernel)",
   "language": "python",
   "name": "python3"
  },
  "language_info": {
   "codemirror_mode": {
    "name": "ipython",
    "version": 3
   },
   "file_extension": ".py",
   "mimetype": "text/x-python",
   "name": "python",
   "nbconvert_exporter": "python",
   "pygments_lexer": "ipython3",
   "version": "3.12.3"
  }
 },
 "nbformat": 4,
 "nbformat_minor": 5
}
