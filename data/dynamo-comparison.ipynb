{
 "cells": [
  {
   "cell_type": "code",
   "execution_count": null,
   "id": "a3ba0454-145b-4f6f-b215-4e098ec59506",
   "metadata": {},
   "outputs": [],
   "source": [
    "import util\n",
    "import pandas as pd"
   ]
  },
  {
   "cell_type": "code",
   "execution_count": null,
   "id": "0ac34394-efb1-4930-832e-64e3ff9b2f36",
   "metadata": {},
   "outputs": [],
   "source": [
    "# EC2-DYNAMO DATA\n",
    "df_ec2_dynamo_constant_run1 = util.trim_df(util.to_df_ec2('./target-dynamo/ec2-dynamo-constant-1725388473-run1.log'))\n",
    "df_ec2_dynamo_constant_run2 = util.trim_df(util.to_df_ec2('./target-dynamo/ec2-dynamo-constant-1725440892-run2.log'))\n",
    "df_ec2_dynamo_spiky_run1 = util.trim_df(util.to_df_ec2('./target-dynamo/ec2-dynamo-spiky-1725302112-run1.log'))\n",
    "df_ec2_dynamo_spiky_run2 = util.trim_df(util.to_df_ec2('./target-dynamo/ec2-dynamo-spiky-1725355887-run2.log'))\n",
    "\n",
    "# LAMBDA-DYNAMO DATA\n",
    "df_lambda_dynamo_constant_run1 = util.trim_df(util.to_df_lambda('./target-dynamo/lambda-dynamo-constant-1725766991-run1.log'))\n",
    "df_lambda_dynamo_constant_run2 = util.trim_df(util.to_df_lambda('./target-dynamo/lambda-dynamo-constant-1725821620-run2.log'))\n",
    "df_lambda_dynamo_spiky_run1 = util.trim_df(util.to_df_lambda('./target-dynamo/lambda-dynamo-spiky-1725676459-run1.log'))\n",
    "df_lambda_dynamo_spiky_run2 = util.trim_df(util.to_df_lambda('./target-dynamo/lambda-dynamo-spiky-1725729192-run2.log'))"
   ]
  },
  {
   "cell_type": "code",
   "execution_count": null,
   "id": "caa37cb7-f748-4134-aead-866e902ec2c7",
   "metadata": {},
   "outputs": [],
   "source": [
    "# SUMMARY OF SPECIFIC RUNS\n",
    "print('\\n----------> df_ec2_dynamo_constant_run1 <----------');util.summary(df_ec2_dynamo_constant_run1,'latency')\n",
    "print('\\n----------> df_ec2_dynamo_constant_run2 <----------');util.summary(df_ec2_dynamo_constant_run2,'latency')\n",
    "print('\\n----------> df_ec2_dynamo_spiky_run1 <----------');util.summary(df_ec2_dynamo_spiky_run1,'latency')\n",
    "print('\\n----------> df_ec2_dynamo_spiky_run2 <----------');util.summary(df_ec2_dynamo_spiky_run2,'latency')\n",
    "print('\\n----------> df_lambda_dynamo_constant_run1 <----------');util.summary(df_lambda_dynamo_constant_run1,'latency')\n",
    "print('\\n----------> df_lambda_dynamo_constant_run2 <----------');util.summary(df_lambda_dynamo_constant_run2,'latency')\n",
    "print('\\n----------> df_lambda_dynamo_spiky_run1 <----------');util.summary(df_lambda_dynamo_spiky_run1,'latency')\n",
    "print('\\n----------> df_lambda_dynamo_spiky_run2 <----------');util.summary(df_lambda_dynamo_spiky_run2,'latency')"
   ]
  },
  {
   "cell_type": "code",
   "execution_count": null,
   "id": "1e219ff3-3647-4797-a3bd-28249fb4009f",
   "metadata": {},
   "outputs": [],
   "source": [
    "# EC2 AND LAMBDA WITH DYNAMO UNDER CONSTANT LOAD (TIME-SERIES GRAPH)\n",
    "util.plot_multiple([df_ec2_dynamo_constant_run1,df_ec2_dynamo_constant_run2,df_lambda_dynamo_constant_run1,df_lambda_dynamo_constant_run2],['ec2_dynamo_constant_run1','ec2_dynamo_constant_run2','lambda_dynamo_constant_run1','lambda_dynamo_constant_run2'])"
   ]
  },
  {
   "cell_type": "code",
   "execution_count": null,
   "id": "58d82729-3e13-4979-b57f-5786099eba26",
   "metadata": {},
   "outputs": [],
   "source": [
    "# EC2 AND LAMBDA WITH DYNAMO UNDER BURSTY LOAD (TIME-SERIES GRAPH)\n",
    "util.plot_multiple([df_ec2_dynamo_constant_run1,df_ec2_dynamo_constant_run2,df_lambda_dynamo_constant_run1,df_lambda_dynamo_constant_run2],['ec2_dynamo_spiky_run1','ec2_dynamo_spiky_run2','lambda_dynamo_spiky_run1','lambda_dynamo_spiky_run2'])"
   ]
  },
  {
   "cell_type": "code",
   "execution_count": null,
   "id": "dfecbafe-09fb-4f4a-a88e-5f2473ff733d",
   "metadata": {},
   "outputs": [],
   "source": [
    "# CONCAT THE TWO RUNS PER CONFIG INTO ONE DATAFRAME\n",
    "df_ec2_dynamo_constant = pd.concat([df_ec2_dynamo_constant_run1,df_ec2_dynamo_constant_run2])\n",
    "df_lambda_dynamo_constant = pd.concat([df_lambda_dynamo_constant_run1,df_lambda_dynamo_constant_run2])\n",
    "df_ec2_dynamo_spiky = pd.concat([df_ec2_dynamo_spiky_run1,df_ec2_dynamo_spiky_run2])\n",
    "df_lambda_dynamo_spiky = pd.concat([df_lambda_dynamo_spiky_run1,df_lambda_dynamo_spiky_run2])"
   ]
  },
  {
   "cell_type": "code",
   "execution_count": null,
   "id": "cb832bf4-fef2-4f6b-ac34-d63a8009be72",
   "metadata": {},
   "outputs": [],
   "source": [
    "# SUMMARY BEFORE DROPPING OUTLIERS\n",
    "util.summary(df_ec2_dynamo_constant,'latency')\n",
    "util.summary(df_lambda_dynamo_constant,'latency')\n",
    "util.summary(df_ec2_dynamo_spiky,'latency')\n",
    "util.summary(df_lambda_dynamo_spiky,'latency')"
   ]
  },
  {
   "cell_type": "code",
   "execution_count": null,
   "id": "19ae24c3-22a2-494e-bd9f-930e7fac099a",
   "metadata": {},
   "outputs": [],
   "source": [
    "# DROP OUTLIERS\n",
    "df1,stats1 = util.remove_outliers(df_ec2_dynamo_constant)\n",
    "df2,stats2 = util.remove_outliers(df_lambda_dynamo_constant)\n",
    "df3,stats3 = util.remove_outliers(df_ec2_dynamo_spiky)\n",
    "df4,stats4 = util.remove_outliers(df_lambda_dynamo_spiky)"
   ]
  },
  {
   "cell_type": "code",
   "execution_count": null,
   "id": "239752ef-9995-4915-8faf-9a59173a4641",
   "metadata": {},
   "outputs": [],
   "source": [
    "# SUMMARY AFTER DROPPING OUTLIERS\n",
    "util.summary(df1,'latency')\n",
    "util.summary(df2,'latency')\n",
    "util.summary(df3,'latency')\n",
    "util.summary(df4,'latency')"
   ]
  },
  {
   "cell_type": "code",
   "execution_count": null,
   "id": "6f08806b-7443-474c-890c-03939d019157",
   "metadata": {},
   "outputs": [],
   "source": [
    "# EC2 AND LAMBDA WITH DYNAMO UNDER CONSTANT LOAD\n",
    "fig1 = util.final_plot(stats1,stats2)\n",
    "fig1.savefig(\"./plots/target-dynamo-constant.png\",dpi=300,bbox_inches=\"tight\")\n",
    "\n",
    "# EC2 AND LAMBDA WITH DYNAMO UNDER BURSTY LOAD\n",
    "fig2 = util.final_plot(stats3,stats4)\n",
    "fig2.savefig(\"./plots/target-dynamo-bursty.png\",dpi=300,bbox_inches=\"tight\")"
   ]
  },
  {
   "cell_type": "code",
   "execution_count": null,
   "id": "9eb78bef-730f-4895-8125-cf6dd6159caa",
   "metadata": {},
   "outputs": [],
   "source": []
  }
 ],
 "metadata": {
  "kernelspec": {
   "display_name": "Python 3 (ipykernel)",
   "language": "python",
   "name": "python3"
  },
  "language_info": {
   "codemirror_mode": {
    "name": "ipython",
    "version": 3
   },
   "file_extension": ".py",
   "mimetype": "text/x-python",
   "name": "python",
   "nbconvert_exporter": "python",
   "pygments_lexer": "ipython3",
   "version": "3.12.3"
  }
 },
 "nbformat": 4,
 "nbformat_minor": 5
}
